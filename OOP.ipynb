{
 "cells": [
  {
   "attachments": {},
   "cell_type": "markdown",
   "metadata": {},
   "source": [
    "### Create Classing"
   ]
  },
  {
   "cell_type": "code",
   "execution_count": 3,
   "metadata": {},
   "outputs": [
    {
     "name": "stdout",
     "output_type": "stream",
     "text": [
      "<class 'str'>\n",
      "<class 'int'>\n",
      "<class 'int'>\n",
      "<class 'int'>\n"
     ]
    }
   ],
   "source": [
    "item1 = 'Phone'\n",
    "item1_price = 100\n",
    "item1_quantity = 5\n",
    "item1_price_total = item1_price * item1_quantity\n",
    "\n",
    "print(type(item1))\n",
    "print(type(item1_price))\n",
    "print(type(item1_quantity))\n",
    "\n"
   ]
  },
  {
   "cell_type": "code",
   "execution_count": 9,
   "metadata": {},
   "outputs": [
    {
     "name": "stdout",
     "output_type": "stream",
     "text": [
      "I am created\n",
      "I am created\n",
      "<class '__main__.Item'>\n",
      "<class 'int'>\n",
      "<class 'int'>\n",
      "<class 'int'>\n"
     ]
    }
   ],
   "source": [
    "class Item:\n",
    "    def __init__(self):\n",
    "        print(\"I am created\")\n",
    "    def calculate_total_price(self,x,y):\n",
    "        return x * y\n",
    "\n",
    "item1 = Item()\n",
    "item1.name = \"Phone\"\n",
    "item1.price = 100\n",
    "item1.quantity = 5\n",
    "# print(item1.calculate_total_price(item1.price,item1.quantity))\n",
    "\n",
    "item2 = Item()\n",
    "item2.name = \"Laptop\"\n",
    "item2.price = 1000\n",
    "item2.quantity = 3\n",
    "# print(item2.calculate_total_price(item2.price,item2.quantity))\n",
    "\n",
    "\n",
    "\n",
    "\n",
    "print(type(item1))\n",
    "print(type(item1.price))\n",
    "print(type(item1.quantity))\n",
    "print(type(item1.quantity))\n",
    "\n"
   ]
  },
  {
   "cell_type": "code",
   "execution_count": 12,
   "metadata": {},
   "outputs": [
    {
     "name": "stdout",
     "output_type": "stream",
     "text": [
      "Phone\n",
      "Laptop\n",
      "100\n",
      "1000\n",
      "0\n",
      "0\n"
     ]
    }
   ],
   "source": [
    "class Item:\n",
    "    def __init__(self,name, price, quantity=0):\n",
    "        self.name = name\n",
    "        self.price = price\n",
    "        self.quantity = quantity\n",
    "    def calculate_total_price(self,x,y):\n",
    "        return x * y\n",
    "\n",
    "item1 = Item(\"Phone\",100)\n",
    "\n",
    "\n",
    "item2 = Item(\"Laptop\",1000)\n",
    "\n",
    "\n",
    "print(item1.name)\n",
    "print(item2.name)\n",
    "print(item1.price)\n",
    "print(item2.price)\n",
    "print(item1.quantity)\n",
    "print(item2.quantity)\n",
    "\n",
    "\n"
   ]
  },
  {
   "cell_type": "code",
   "execution_count": 14,
   "metadata": {},
   "outputs": [
    {
     "name": "stdout",
     "output_type": "stream",
     "text": [
      "100\n",
      "3000\n"
     ]
    }
   ],
   "source": [
    "class Item:\n",
    "    def __init__(self,name, price, quantity=0):\n",
    "        self.name = name\n",
    "        self.price = price\n",
    "        self.quantity = quantity\n",
    "    def calculate_total_price(self):\n",
    "        return self.price * self.quantity\n",
    "\n",
    "item1 = Item(\"Phone\",100, 1)\n",
    "item2 = Item(\"Laptop\",1000, 3)\n",
    "\n",
    "print(item1.calculate_total_price())\n",
    "print(item2.calculate_total_price())\n",
    "\n",
    "\n",
    "\n",
    "\n"
   ]
  },
  {
   "cell_type": "code",
   "execution_count": 18,
   "metadata": {},
   "outputs": [
    {
     "name": "stdout",
     "output_type": "stream",
     "text": [
      "100\n",
      "3000\n"
     ]
    }
   ],
   "source": [
    "class Item:\n",
    "   \n",
    "    def __init__(self,name: str, price: float, quantity=0):\n",
    "        #Run validation to the received arguments\n",
    "        assert price >= 0, f\"Price {price} is not greater than or equal to zero!\"\n",
    "        assert quantity >= 0, f\"Price {quantity} is not greater or equal to zero!\"\n",
    "        # Assign to self object\n",
    "        self.name = name\n",
    "        self.price = price\n",
    "        self.quantity = quantity\n",
    "    def calculate_total_price(self):\n",
    "        return self.price * self.quantity\n",
    "    \n",
    "\n",
    "\n",
    "item1 = Item(\"Phone\",100, 1)\n",
    "item2 = Item(\"Laptop\",1000, 3)\n",
    "\n",
    "print(item1.calculate_total_price())\n",
    "print(item2.calculate_total_price())\n",
    "\n"
   ]
  },
  {
   "cell_type": "code",
   "execution_count": 19,
   "metadata": {},
   "outputs": [
    {
     "name": "stdout",
     "output_type": "stream",
     "text": [
      "0.8\n",
      "0.8\n",
      "0.8\n"
     ]
    }
   ],
   "source": [
    "class Item:\n",
    "    pay_rate = 0.8 # The pay rate after 20% discount\n",
    "    def __init__(self,name: str, price: float, quantity=0):\n",
    "        #Run validation to the received arguments\n",
    "        assert price >= 0, f\"Price {price} is not greater than or equal to zero!\"\n",
    "        assert quantity >= 0, f\"Price {quantity} is not greater or equal to zero!\"\n",
    "        # Assign to self object\n",
    "        self.name = name\n",
    "        self.price = price\n",
    "        self.quantity = quantity\n",
    "    def calculate_total_price(self):\n",
    "        return self.price * self.quantity\n",
    "\n",
    "\n",
    "item1 = Item(\"Phone\",100, 1)\n",
    "item2 = Item(\"Laptop\",1000, 3)\n",
    "\n",
    "\n",
    "print(Item.pay_rate)\n",
    "print(item1.pay_rate)\n",
    "print(item2.pay_rate)\n",
    "\n"
   ]
  },
  {
   "cell_type": "code",
   "execution_count": 27,
   "metadata": {},
   "outputs": [
    {
     "name": "stdout",
     "output_type": "stream",
     "text": [
      "100\n",
      "80.0\n",
      "700.0\n"
     ]
    }
   ],
   "source": [
    "class Item:\n",
    "    pay_rate = 0.8 # The pay rate after 20% discount\n",
    "    def __init__(self,name: str, price: float, quantity=0):\n",
    "        #Run validation to the received arguments\n",
    "        assert price >= 0, f\"Price {price} is not greater than or equal to zero!\"\n",
    "        assert quantity >= 0, f\"Price {quantity} is not greater or equal to zero!\"\n",
    "        # Assign to self object\n",
    "        self.name = name\n",
    "        self.price = price\n",
    "        self.quantity = quantity\n",
    "    def calculate_total_price(self):\n",
    "        return self.price * self.quantity\n",
    "\n",
    "    def apply_discount(self):\n",
    "        self.price = self.price * self.pay_rate\n",
    "\n",
    "\n",
    "# print(Item.__dict__) # All the attributes for Class level\n",
    "# print(item1.__dict__) # All the attributes for instance level\n",
    "\n",
    "item1 = Item(\"Phone\",100,1)\n",
    "print(item1.price)\n",
    "item1.apply_discount()\n",
    "print(item1.price)\n",
    "\n",
    "item2 = Item(\"Laptop\",1000,3)\n",
    "item2.pay_rate = 0.7\n",
    "item2.apply_discount()\n",
    "print(item2.price)\n",
    "\n"
   ]
  },
  {
   "cell_type": "code",
   "execution_count": 40,
   "metadata": {},
   "outputs": [
    {
     "name": "stdout",
     "output_type": "stream",
     "text": [
      "[Item('Phone', 100,1), Item('Laptop', 1000,3), Item('Cable', 10,5), Item('Mouse', 50,5), Item('Keyboard', 75,5)]\n"
     ]
    }
   ],
   "source": [
    "class Item:\n",
    "    pay_rate = 0.8 # The pay rate after 20% discount\n",
    "    all = []\n",
    "    def __init__(self,name: str, price: float, quantity=0):\n",
    "        #Run validation to the received arguments\n",
    "        assert price >= 0, f\"Price {price} is not greater than or equal to zero!\"\n",
    "        assert quantity >= 0, f\"Price {quantity} is not greater or equal to zero!\"\n",
    "\n",
    "        # Assign to self object\n",
    "        self.name = name\n",
    "        self.price = price\n",
    "        self.quantity = quantity\n",
    "\n",
    "        # Action to execute\n",
    "        Item.all.append(self)\n",
    "\n",
    "\n",
    "    def calculate_total_price(self):\n",
    "        return self.price * self.quantity\n",
    "\n",
    "    def apply_discount(self):\n",
    "        self.price = self.price * self.pay_rate\n",
    "\n",
    "    def __repr__(self):\n",
    "        return f\"Item('{self.name}', {self.price},{self.quantity})\"\n",
    "    \n",
    "\n",
    "\n",
    "\n",
    "\n",
    "\n",
    "item1 = Item(\"Phone\",100,1)\n",
    "item2 = Item(\"Laptop\",1000,3)\n",
    "item3 = Item(\"Cable\",10,5)\n",
    "item4 = Item(\"Mouse\",50,5)\n",
    "item5 = Item(\"Keyboard\",75,5)\n",
    "\n",
    "print(Item.all)\n",
    "\n",
    "# for instance in Item.all :\n",
    "#     print(instance.name)\n",
    "\n"
   ]
  },
  {
   "cell_type": "code",
   "execution_count": 5,
   "metadata": {},
   "outputs": [
    {
     "name": "stdout",
     "output_type": "stream",
     "text": [
      "[Item('Phone', 100.0,1), Item('Laptop', 1000.0,3), Item('Cable', 10.0,5), Item('Keyboard', 75.0,5)]\n"
     ]
    }
   ],
   "source": [
    "import csv\n",
    "\n",
    "class Item:\n",
    "    pay_rate = 0.8 # The pay rate after 20% discount\n",
    "    all = []\n",
    "    def __init__(self,name: str, price: float, quantity=0):\n",
    "        #Run validation to the received arguments\n",
    "        assert price >= 0, f\"Price {price} is not greater than or equal to zero!\"\n",
    "        assert quantity >= 0, f\"Price {quantity} is not greater or equal to zero!\"\n",
    "\n",
    "        # Assign to self object\n",
    "        self.name = name\n",
    "        self.price = price\n",
    "        self.quantity = quantity\n",
    "\n",
    "        # Action to execute\n",
    "        Item.all.append(self)\n",
    "\n",
    "\n",
    "    def calculate_total_price(self):\n",
    "        return self.price * self.quantity\n",
    "\n",
    "    def apply_discount(self):\n",
    "        self.price = self.price * self.pay_rate\n",
    "\n",
    "    @classmethod\n",
    "    def instantiate_from_csv(cls):\n",
    "        with open('item.csv','r') as f:\n",
    "            reader = csv.DictReader(f)\n",
    "            items = list(reader)\n",
    "\n",
    "        for item in items:\n",
    "            Item(\n",
    "                name = item.get('name'),\n",
    "                price = float(item.get('price')),\n",
    "                quantity = int(item.get('quantity')),\n",
    "            )\n",
    "\n",
    "        \n",
    "\n",
    "    def __repr__(self):\n",
    "        return f\"Item('{self.name}', {self.price},{self.quantity})\"\n",
    "    \n",
    "    \n",
    "Item.instantiate_from_csv()\n",
    "print(Item.all)\n",
    "\n"
   ]
  },
  {
   "cell_type": "code",
   "execution_count": 10,
   "metadata": {},
   "outputs": [
    {
     "name": "stdout",
     "output_type": "stream",
     "text": [
      "True\n"
     ]
    }
   ],
   "source": [
    "import csv\n",
    "\n",
    "class Item:\n",
    "    pay_rate = 0.8 # The pay rate after 20% discount\n",
    "    all = []\n",
    "    def __init__(self,name: str, price: float, quantity=0):\n",
    "        #Run validation to the received arguments\n",
    "        assert price >= 0, f\"Price {price} is not greater than or equal to zero!\"\n",
    "        assert quantity >= 0, f\"Price {quantity} is not greater or equal to zero!\"\n",
    "\n",
    "        # Assign to self object\n",
    "        self.name = name\n",
    "        self.price = price\n",
    "        self.quantity = quantity\n",
    "\n",
    "        # Action to execute\n",
    "        Item.all.append(self)\n",
    "\n",
    "\n",
    "    def calculate_total_price(self):\n",
    "        return self.price * self.quantity\n",
    "\n",
    "    def apply_discount(self):\n",
    "        self.price = self.price * self.pay_rate\n",
    "\n",
    "    @classmethod\n",
    "    def instantiate_from_csv(cls):\n",
    "        with open('item.csv','r') as f:\n",
    "            reader = csv.DictReader(f)\n",
    "            items = list(reader)\n",
    "\n",
    "        for item in items:\n",
    "            Item(\n",
    "                name = item.get('name'),\n",
    "                price = float(item.get('price')),\n",
    "                quantity = int(item.get('quantity')),\n",
    "            )\n",
    "    \n",
    "    @staticmethod\n",
    "    def is_interger(num):\n",
    "        # We will count out the floats that are point zero\n",
    "        #For i.e: 5.0,10.0\n",
    "        if isinstance(num, float):\n",
    "            # Cont out the floats that are pount zero\n",
    "            return num.is_integer()\n",
    "        elif isinstance(num,int):\n",
    "            return True\n",
    "        else:\n",
    "            return False\n",
    "        \n",
    "\n",
    "\n",
    "        \n",
    "\n",
    "    def __repr__(self):\n",
    "        return f\"Item('{self.name}', {self.price},{self.quantity})\"\n",
    "    \n",
    "\n",
    "print(Item.is_interger(7.0))\n",
    "\n"
   ]
  },
  {
   "cell_type": "code",
   "execution_count": null,
   "metadata": {},
   "outputs": [],
   "source": [
    "import csv\n",
    "\n",
    "class Item : ...\n",
    "\n",
    "phone1 = Item(\"jscPhonev10\",500,5)\n",
    "phone1.broken_phones = 1\n",
    "phone2 = Item(\"jscPhonev20\",700,5)\n",
    "phone2.broken_phones = 1 \n"
   ]
  },
  {
   "cell_type": "code",
   "execution_count": 12,
   "metadata": {},
   "outputs": [
    {
     "name": "stdout",
     "output_type": "stream",
     "text": [
      "1\n",
      "2\n",
      "3\n",
      "4\n",
      "5\n",
      "6\n",
      "7\n",
      "8\n",
      "9\n",
      "10\n",
      "11\n"
     ]
    }
   ],
   "source": [
    "for i in range(1,12):\n",
    "    print(i)"
   ]
  }
 ],
 "metadata": {
  "kernelspec": {
   "display_name": "Python 3",
   "language": "python",
   "name": "python3"
  },
  "language_info": {
   "codemirror_mode": {
    "name": "ipython",
    "version": 3
   },
   "file_extension": ".py",
   "mimetype": "text/x-python",
   "name": "python",
   "nbconvert_exporter": "python",
   "pygments_lexer": "ipython3",
   "version": "3.11.0"
  },
  "orig_nbformat": 4,
  "vscode": {
   "interpreter": {
    "hash": "2becb7a2e2aa26dcd6e5a9dc03b233d219cd6f19576ccaf267f1ec64e6cd7df1"
   }
  }
 },
 "nbformat": 4,
 "nbformat_minor": 2
}
