{
 "cells": [
  {
   "attachments": {},
   "cell_type": "markdown",
   "metadata": {},
   "source": [
    "- Print \" \""
   ]
  },
  {
   "cell_type": "code",
   "execution_count": 2,
   "metadata": {},
   "outputs": [
    {
     "name": "stdout",
     "output_type": "stream",
     "text": [
      "a string that you \"don't\" have to escape \n",
      "a string that you \"don't\" have to escape \n"
     ]
    }
   ],
   "source": [
    "# Escape String way 1\n",
    "print(\"\"\"a string that you \"don't\" have to escape \"\"\")\n",
    "\n",
    "#Escape String way 2 \n",
    "print(\"a string that you \\\"don't\\\" have to escape \")"
   ]
  },
  {
   "attachments": {},
   "cell_type": "markdown",
   "metadata": {},
   "source": [
    "In Python there is no === , Only ==\n"
   ]
  },
  {
   "cell_type": "code",
   "execution_count": 3,
   "metadata": {},
   "outputs": [
    {
     "name": "stdout",
     "output_type": "stream",
     "text": [
      "1\n",
      "2\n",
      "3\n",
      "asdads\n",
      "aa\n",
      "Hello\n"
     ]
    }
   ],
   "source": [
    "for x  in range(1,4):\n",
    "    print(x)\n",
    "\n",
    "for y in [\"asdads\",\"aa\"]:   \n",
    "    print(y)\n",
    "\n",
    "print(\"Hello\")"
   ]
  },
  {
   "attachments": {},
   "cell_type": "markdown",
   "metadata": {},
   "source": [
    "- Count"
   ]
  },
  {
   "cell_type": "code",
   "execution_count": 3,
   "metadata": {},
   "outputs": [
    {
     "name": "stdout",
     "output_type": "stream",
     "text": [
      "2\n"
     ]
    }
   ],
   "source": [
    "txt = \"I love apples, apple are my favorite fruit\"\n",
    "\n",
    "x = txt.count(\"apple\")\n",
    "\n",
    "print(x)"
   ]
  },
  {
   "cell_type": "code",
   "execution_count": 1,
   "metadata": {},
   "outputs": [
    {
     "name": "stdout",
     "output_type": "stream",
     "text": [
      "6\n",
      "0\n",
      "10\n",
      "0\n"
     ]
    }
   ],
   "source": [
    "#33\n",
    "\n",
    "#! dumb code don't di like this\n",
    "\n",
    "def sum_number(a,b,c):\n",
    "    total = 0\n",
    "    if a == b or b == c or a==c :\n",
    "        return total\n",
    "    else:\n",
    "        result = a + b + c\n",
    "        total = total + result\n",
    "    \n",
    "    return total\n",
    "\n",
    "\n",
    "\n",
    "#! this is better\n",
    "\n",
    "def sum_number2(x,y,z):\n",
    "    if x == y or y == z or x==z :\n",
    "        sum = 0\n",
    "    else:\n",
    "        sum = x + y + z\n",
    "    \n",
    "    return sum\n",
    "\n",
    "\n",
    "print(sum_number(1,2,3))\n",
    "print(sum_number(1,1,1))\n",
    "\n",
    "print(sum_number2(1,6,3))\n",
    "print(sum_number2(1,1,1))\n",
    "\n",
    "\n",
    "\n",
    "\n"
   ]
  },
  {
   "attachments": {},
   "cell_type": "markdown",
   "metadata": {},
   "source": [
    "- Print Format \n"
   ]
  },
  {
   "cell_type": "code",
   "execution_count": 2,
   "metadata": {},
   "outputs": [
    {
     "name": "stdout",
     "output_type": "stream",
     "text": [
      "Hello dsaads sadds! You just delved into python.\n"
     ]
    }
   ],
   "source": [
    "def print_full_name(first, last):\n",
    "     print(f'Hello {first} {last}! You just delved into python.')\n",
    "\n",
    "\n",
    "\n",
    "if __name__ == '__main__':\n",
    "    first_name = input()\n",
    "    last_name = input()\n",
    "    print_full_name(first_name, last_name)"
   ]
  },
  {
   "cell_type": "code",
   "execution_count": null,
   "metadata": {},
   "outputs": [],
   "source": [
    "#40\n",
    "\n",
    "import math\n",
    "def distance_list(x1,x2,y1,y2):\n",
    "    result = math.sqrt((x2-x1)**2 + (y2-y1)**2)\n",
    "\n",
    "    return \"{:.2f}\".format(result)\n",
    "\n",
    "print(distance_list(4,6,0,6))"
   ]
  },
  {
   "cell_type": "code",
   "execution_count": 3,
   "metadata": {},
   "outputs": [
    {
     "name": "stdout",
     "output_type": "stream",
     "text": [
      "Name: AHLAAA \n",
      "Age:20 \n",
      "Address:JAPAN, Asia\n"
     ]
    }
   ],
   "source": [
    "# def personal_details():\n",
    "#     name,age = \"AHLAAA\",20\n",
    "#     address = \"JAPAN, Asia\"\n",
    "\n",
    "#     print(\"Name: {} \\nAge:{} \\nAddress:{}\".format(name,age,address))\n",
    "\n",
    "\n",
    "# personal_details()\n",
    "\n",
    "#! This is the same\n",
    "\n",
    "def personal_details():\n",
    "    name,age = \"AHLAAA\",20\n",
    "    address = \"JAPAN, Asia\"\n",
    "\n",
    "    print(f\"Name: {name} \\nAge:{age} \\nAddress:{address}\")\n",
    "\n",
    "personal_details()\n"
   ]
  },
  {
   "attachments": {},
   "cell_type": "markdown",
   "metadata": {},
   "source": [
    "- Check File exist\n"
   ]
  },
  {
   "cell_type": "code",
   "execution_count": 4,
   "metadata": {},
   "outputs": [
    {
     "name": "stdout",
     "output_type": "stream",
     "text": [
      "False\n",
      "True\n"
     ]
    }
   ],
   "source": [
    "import os \n",
    "\n",
    "print(os.path.isfile('main.txt'))\n",
    "print(os.path.isfile('Theory.ipynb'))\n"
   ]
  },
  {
   "attachments": {},
   "cell_type": "markdown",
   "metadata": {},
   "source": [
    "- Check OS "
   ]
  },
  {
   "cell_type": "code",
   "execution_count": 5,
   "metadata": {},
   "outputs": [
    {
     "name": "stdout",
     "output_type": "stream",
     "text": [
      "Name of the operating system: posix\n",
      "Name of the Os system Darwin\n",
      "Version of the operating system: 23.1.0\n"
     ]
    }
   ],
   "source": [
    "#43\n",
    "\n",
    "import platform\n",
    "import os\n",
    "\n",
    "print(\"Name of the operating system:\",os.name)\n",
    "\n",
    "print(\"Name of the Os system\",platform.system())\n",
    "\n",
    "print(\"Version of the operating system:\", platform.release())"
   ]
  },
  {
   "attachments": {},
   "cell_type": "markdown",
   "metadata": {},
   "source": [
    "- Locate Site Package"
   ]
  },
  {
   "cell_type": "code",
   "execution_count": 6,
   "metadata": {},
   "outputs": [
    {
     "name": "stdout",
     "output_type": "stream",
     "text": [
      "['/Users/nonthakornchencharatmatha/.pyenv/versions/3.11.0/lib/python3.11/site-packages']\n"
     ]
    }
   ],
   "source": [
    "import site \n",
    "\n",
    "print(site.getsitepackages())"
   ]
  },
  {
   "attachments": {},
   "cell_type": "markdown",
   "metadata": {},
   "source": [
    "- Concatinate Character"
   ]
  },
  {
   "cell_type": "code",
   "execution_count": 1,
   "metadata": {},
   "outputs": [
    {
     "name": "stdout",
     "output_type": "stream",
     "text": [
      "\n",
      "All Colors: Red-White-Black\n",
      "\n"
     ]
    }
   ],
   "source": [
    "list_of_colors = ['Red', 'White', 'Black']  # Create a list of colors containing three elements\n",
    "colors = '-'.join(list_of_colors)  # Join the list elements with '-' and store the result in the 'colors' variable\n",
    "print()  # Print a blank line for spacing\n",
    "print(\"All Colors: \" + colors)  # Print the concatenated colors with '-' between them\n",
    "print()  # Print another blank line for spacing\n"
   ]
  },
  {
   "attachments": {},
   "cell_type": "markdown",
   "metadata": {},
   "source": [
    "### OOP practice\n"
   ]
  },
  {
   "cell_type": "code",
   "execution_count": 6,
   "metadata": {},
   "outputs": [
    {
     "name": "stdout",
     "output_type": "stream",
     "text": [
      "Tenz\n",
      "Red\n",
      "Tenz is a human\n"
     ]
    }
   ],
   "source": [
    "class Human:\n",
    "    def __init__(self,name,color):\n",
    "        self.name = name\n",
    "        self.color = color\n",
    "    def display_name(self):\n",
    "        print(self.name, \"is a human\")\n",
    "    \n",
    "human1 = Human(\"Tenz\",\"Red\")\n",
    "\n",
    "print(human1.name)\n",
    "print(human1.color)\n",
    "\n",
    "human1.display_name()"
   ]
  },
  {
   "cell_type": "code",
   "execution_count": 6,
   "metadata": {},
   "outputs": [
    {
     "name": "stdout",
     "output_type": "stream",
     "text": [
      "<__main__.Human object at 0x105c9dc10>\n",
      "Non is human\n"
     ]
    }
   ],
   "source": [
    "class Human:\n",
    "    def __init__(self,name,color) :\n",
    "        self.name = name\n",
    "        self.color= color\n",
    "    \n",
    "    def display_name(self):\n",
    "        print(self.name,\"is human\")\n",
    "\n",
    "\n",
    "human1 = Human(\"Non\",\"Black\")\n",
    "\n",
    "print(human1)\n",
    "\n",
    "human1.display_name()\n"
   ]
  },
  {
   "cell_type": "code",
   "execution_count": null,
   "metadata": {},
   "outputs": [],
   "source": [
    "# Define a function that squares a number\n",
    "def square(x):\n",
    "    return x ** 2\n",
    "\n",
    "# Use map to apply the square function to each element in the list\n",
    "numbers = [1, 2, 3, 4, 5]\n",
    "squared_numbers = map(square, numbers)\n",
    "\n",
    "print(squared_numbers)\n",
    "print(list(squared_numbers))"
   ]
  },
  {
   "attachments": {},
   "cell_type": "markdown",
   "metadata": {},
   "source": [
    "- find and Count"
   ]
  },
  {
   "cell_type": "code",
   "execution_count": 1,
   "metadata": {},
   "outputs": [
    {
     "name": "stdout",
     "output_type": "stream",
     "text": [
      "7\n"
     ]
    }
   ],
   "source": [
    "# find คือหาตัวแรกว่าเจอที่ประโยคไหน\n",
    "s = \"count yme has me link me \"\n",
    "\n",
    "y = s.find(\"me\")\n",
    "print(y)"
   ]
  },
  {
   "cell_type": "code",
   "execution_count": null,
   "metadata": {},
   "outputs": [],
   "source": [
    "# Count คือนับว่ามีกี่ตัว\n",
    "s = \"count me has me link me\"\n",
    "x = s.count(\"me\")\n",
    "y = s.find(\"me\")\n",
    "print(x)\n",
    "print(y)"
   ]
  }
 ],
 "metadata": {
  "kernelspec": {
   "display_name": "Python 3",
   "language": "python",
   "name": "python3"
  },
  "language_info": {
   "codemirror_mode": {
    "name": "ipython",
    "version": 3
   },
   "file_extension": ".py",
   "mimetype": "text/x-python",
   "name": "python",
   "nbconvert_exporter": "python",
   "pygments_lexer": "ipython3",
   "version": "3.11.0"
  },
  "orig_nbformat": 4,
  "vscode": {
   "interpreter": {
    "hash": "2becb7a2e2aa26dcd6e5a9dc03b233d219cd6f19576ccaf267f1ec64e6cd7df1"
   }
  }
 },
 "nbformat": 4,
 "nbformat_minor": 2
}
