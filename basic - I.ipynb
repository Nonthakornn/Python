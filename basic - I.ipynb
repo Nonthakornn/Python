{
 "cells": [
  {
   "attachments": {},
   "cell_type": "markdown",
   "metadata": {},
   "source": [
    "### Question 1 - 10\n"
   ]
  },
  {
   "cell_type": "code",
   "execution_count": 7,
   "metadata": {},
   "outputs": [
    {
     "name": "stdout",
     "output_type": "stream",
     "text": [
      "Python version 3.11.0\n"
     ]
    }
   ],
   "source": [
    "# 2. Write a Python program to find out what version of Python you are using.\n",
    "import platform\n",
    "x = platform.python_version()\n",
    "print(\"Python version\",x)"
   ]
  },
  {
   "cell_type": "code",
   "execution_count": 8,
   "metadata": {},
   "outputs": [
    {
     "name": "stdout",
     "output_type": "stream",
     "text": [
      "Current date and time: \n",
      "2023-11-22 11:21:23\n"
     ]
    }
   ],
   "source": [
    "#3 date and time\n",
    "\n",
    "import datetime\n",
    "now = datetime.datetime.now()\n",
    "print(\"Current date and time: \")\n",
    "print(now.strftime(\"%Y-%m-%d %H:%M:%S\"))\n"
   ]
  },
  {
   "cell_type": "code",
   "execution_count": 9,
   "metadata": {},
   "outputs": [
    {
     "ename": "ValueError",
     "evalue": "could not convert string to float: ''",
     "output_type": "error",
     "traceback": [
      "\u001b[0;31m---------------------------------------------------------------------------\u001b[0m",
      "\u001b[0;31mValueError\u001b[0m                                Traceback (most recent call last)",
      "Cell \u001b[0;32mIn[9], line 5\u001b[0m\n\u001b[1;32m      1\u001b[0m \u001b[39m# 4 Circle Area\u001b[39;00m\n\u001b[1;32m      4\u001b[0m \u001b[39mimport\u001b[39;00m \u001b[39mmath\u001b[39;00m\n\u001b[0;32m----> 5\u001b[0m r \u001b[39m=\u001b[39m \u001b[39mfloat\u001b[39;49m(\u001b[39minput\u001b[39;49m())\n\u001b[1;32m      6\u001b[0m Area \u001b[39m=\u001b[39m (math\u001b[39m.\u001b[39mpi)\u001b[39m*\u001b[39m(r\u001b[39m*\u001b[39m\u001b[39m*\u001b[39m\u001b[39m2\u001b[39m)\n\u001b[1;32m      8\u001b[0m \u001b[39m#! No need to put Comma \u001b[39;00m\n",
      "\u001b[0;31mValueError\u001b[0m: could not convert string to float: ''"
     ]
    }
   ],
   "source": [
    "# 4 Circle Area\n",
    "\n",
    "\n",
    "import math\n",
    "r = float(input())\n",
    "Area = (math.pi)*(r**2)\n",
    "\n",
    "#! No need to put Comma \n",
    "print(\"Area = %.2f\" %Area)\n"
   ]
  },
  {
   "cell_type": "code",
   "execution_count": null,
   "metadata": {},
   "outputs": [
    {
     "name": "stdout",
     "output_type": "stream",
     "text": [
      "Reverse name is DCBA\n"
     ]
    }
   ],
   "source": [
    "#5 Write a Python program that accepts the user's first and last name and prints them in reverse order with a space between them.\n",
    "\n",
    "f_name = \"ABCD\"\n",
    "l_name = \"EFGH\"\n",
    "\n",
    "def reverse(f_name):\n",
    "    str = \"\"\n",
    "    for i in f_name:\n",
    "        str = i + str\n",
    "    return str\n",
    "\n",
    "print(\"Reverse name is \", end=\"\")\n",
    "print(reverse(f_name))\n",
    "\n"
   ]
  },
  {
   "cell_type": "code",
   "execution_count": null,
   "metadata": {},
   "outputs": [
    {
     "name": "stdout",
     "output_type": "stream",
     "text": [
      "List:  ['1', '2', '3', '4']\n",
      "Tuple: ('1', '2', '3', '4')\n"
     ]
    }
   ],
   "source": [
    "#6 Print List and Tuple\n",
    "values = input(\"Enter a number\")\n",
    "\n",
    "list = values.split(\",\")\n",
    "my_tuple = tuple(list)\n",
    "\n",
    "print(\"List: \", list)\n",
    "print(\"Tuple:\", my_tuple)"
   ]
  },
  {
   "cell_type": "code",
   "execution_count": null,
   "metadata": {},
   "outputs": [
    {
     "name": "stdout",
     "output_type": "stream",
     "text": [
      "java\n"
     ]
    }
   ],
   "source": [
    "#7 Accept file Name\n",
    "\n",
    "name = input(\"Enter File name:\").split(\".\")\n",
    "print(name[1])\n"
   ]
  },
  {
   "cell_type": "code",
   "execution_count": null,
   "metadata": {},
   "outputs": [
    {
     "name": "stdout",
     "output_type": "stream",
     "text": [
      "Red Black\n",
      "['Red', 'Black']\n"
     ]
    }
   ],
   "source": [
    "#8 Display the first and last Color\n",
    "\n",
    "color_list = [\"Red\",\"Green\",\"White\",\"Black\"]\n",
    "\n",
    "print(color_list[0],color_list[3])\n",
    "\n",
    "#! Start Stop(ก่อนตัวท้าย) Stop\n",
    "print(color_list[0:4:3])"
   ]
  },
  {
   "attachments": {},
   "cell_type": "markdown",
   "metadata": {},
   "source": [
    "In Python, %i, %d, and %f are placeholders used in string formatting to represent different types of numeric values. Here's a breakdown of their usage:\n",
    "\n",
    "%i and %d:\n",
    "\n",
    "Both %i and %d are used for formatting integers.\n",
    "\n",
    "%i is a general integer placeholder.\n",
    "\n",
    "%d is also used for integers, and it stands for \"decimal.\"\n",
    "\n",
    "In most cases, you can use %i and %d interchangeably."
   ]
  },
  {
   "cell_type": "code",
   "execution_count": null,
   "metadata": {},
   "outputs": [
    {
     "name": "stdout",
     "output_type": "stream",
     "text": [
      "The examination will start on: 11/12/2024\n"
     ]
    }
   ],
   "source": [
    "#9 \n",
    "\n",
    "# print(11,23,2014,sep=\"/\")\n",
    "\n",
    "exam_st_date = (11,12,2024)\n",
    "\n",
    "print(\"The examination will start on: %i/%i/%i\" %exam_st_date)"
   ]
  },
  {
   "cell_type": "code",
   "execution_count": null,
   "metadata": {},
   "outputs": [
    {
     "name": "stdout",
     "output_type": "stream",
     "text": [
      "615\n"
     ]
    }
   ],
   "source": [
    "#10 Write a Python program that accepts an integer (n) and computes the value of n+nn+nnn\n",
    "\n",
    "a = int(input(\"Input an Interger\"))\n",
    "\n",
    "n1 = int(\"%s\" %a)\n",
    "n2 = int(\"%s%s\" %(a,a))\n",
    "n3 = int(\"%s%s%s\" %(a,a,a))\n",
    "\n",
    "print(n1 + n2 + n3)\n",
    "\n",
    "\n",
    "\n"
   ]
  },
  {
   "attachments": {},
   "cell_type": "markdown",
   "metadata": {},
   "source": [
    "### Question 11 - 20"
   ]
  },
  {
   "cell_type": "code",
   "execution_count": null,
   "metadata": {},
   "outputs": [],
   "source": [
    "#11 Write a Python program to print the documents (syntax, description etc.) of Python built-in function(s). Sample function : abs()\n",
    "\n",
    "print(abs.__doc__)"
   ]
  },
  {
   "cell_type": "code",
   "execution_count": null,
   "metadata": {},
   "outputs": [],
   "source": [
    "\n",
    "#! Reverse Function Does not support Sting but support List\n",
    "\n",
    "x = \"adsfsdfx\"\n",
    "x = x.reverse()\n",
    "print(x)"
   ]
  },
  {
   "cell_type": "code",
   "execution_count": null,
   "metadata": {},
   "outputs": [
    {
     "name": "stdout",
     "output_type": "stream",
     "text": [
      "     April 2017\n",
      "Mo Tu We Th Fr Sa Su\n",
      "                1  2\n",
      " 3  4  5  6  7  8  9\n",
      "10 11 12 13 14 15 16\n",
      "17 18 19 20 21 22 23\n",
      "24 25 26 27 28 29 30\n",
      "\n"
     ]
    }
   ],
   "source": [
    "#12 \n",
    "\n",
    "import calendar\n",
    "\n",
    "y = int(input(\"Input the year: \"))\n",
    "m = int(input(\"Input the month: \"))\n",
    "\n",
    "print(calendar.month(y,m))"
   ]
  },
  {
   "cell_type": "code",
   "execution_count": null,
   "metadata": {},
   "outputs": [
    {
     "name": "stdout",
     "output_type": "stream",
     "text": [
      " a string that you \"don't\" have to escape \n",
      "This\n",
      "is a ...... multi-line\n",
      "heredoc string ------> example\n"
     ]
    }
   ],
   "source": [
    "#13\n",
    "\n",
    "print(\"\"\" a string that you \"don't\" have to escape \"\"\")\n",
    "print(\"This\")\n",
    "print(\"is a ...... multi-line\")\n",
    "print(\"heredoc string ------> example\")\n"
   ]
  },
  {
   "cell_type": "code",
   "execution_count": null,
   "metadata": {},
   "outputs": [
    {
     "name": "stdout",
     "output_type": "stream",
     "text": [
      "9\n"
     ]
    }
   ],
   "source": [
    "from datetime import date\n",
    "\n",
    "d0 = date(2014,7,2)\n",
    "d1 = date(2014,7,11)\n",
    "result = abs(d0 - d1)\n",
    "\n",
    "print(result.days)\n",
    "\n"
   ]
  },
  {
   "cell_type": "code",
   "execution_count": null,
   "metadata": {},
   "outputs": [
    {
     "name": "stdout",
     "output_type": "stream",
     "text": [
      "904.78\n"
     ]
    }
   ],
   "source": [
    "#15 \n",
    "\n",
    "import math\n",
    "r = 6 \n",
    "V = (4/3)*(math.pi)*(r**3)\n",
    "\n",
    "print(\"%.2f\" %V)"
   ]
  },
  {
   "cell_type": "code",
   "execution_count": null,
   "metadata": {},
   "outputs": [
    {
     "name": "stdout",
     "output_type": "stream",
     "text": [
      "2\n",
      "8\n"
     ]
    }
   ],
   "source": [
    "\n",
    "# x = int(input())\n",
    "\n",
    "# if x > 17 :\n",
    "#     res = 2 * abs(x -17)\n",
    "#     print(res)\n",
    "# else:\n",
    "#     res = 17 - x \n",
    "#     print(res)\n",
    "\n",
    "def difference(n):\n",
    "    if n < 17 :\n",
    "        return 17 - n\n",
    "    else:\n",
    "        return 2 * abs(17-n)\n",
    "\n",
    "print(difference(15))\n",
    "print(difference(21))\n",
    "\n"
   ]
  },
  {
   "cell_type": "code",
   "execution_count": null,
   "metadata": {},
   "outputs": [
    {
     "name": "stdout",
     "output_type": "stream",
     "text": [
      "True\n",
      "True\n",
      "False\n",
      "False\n"
     ]
    }
   ],
   "source": [
    "#17\n",
    "\n",
    "def near_thousand(n):\n",
    "    return ((abs(1000-n)) <= 100) or (abs(2000-n) <= 100)\n",
    "\n",
    "print(near_thousand(1000))\n",
    "print(near_thousand(900))\n",
    "print(near_thousand(800))\n",
    "print(near_thousand(2200))"
   ]
  },
  {
   "cell_type": "code",
   "execution_count": null,
   "metadata": {},
   "outputs": [
    {
     "name": "stdout",
     "output_type": "stream",
     "text": [
      "9\n",
      "14\n"
     ]
    }
   ],
   "source": [
    "#18\n",
    "\n",
    "def add_value(a,b,c):\n",
    "    sum = a + b + c\n",
    "    if a == b == c :\n",
    "        sum = sum * 3\n",
    "    return sum\n",
    "\n",
    "print(add_value(1,1,1))\n",
    "print(add_value(2,3,9))\n",
    "\n"
   ]
  },
  {
   "cell_type": "code",
   "execution_count": null,
   "metadata": {},
   "outputs": [
    {
     "name": "stdout",
     "output_type": "stream",
     "text": [
      "IsArray\n",
      "IsaIsEmpty\n"
     ]
    }
   ],
   "source": [
    "#19 \n",
    "\n",
    "def new_string(text):\n",
    "    if len(text) >=2 and text[:2] == \"Is\":\n",
    "        return text\n",
    "    else:\n",
    "        return \"Is\" + text\n",
    "\n",
    "print(new_string(\"Array\"))\n",
    "print(new_string(\"IsEmpty\"))\n"
   ]
  },
  {
   "cell_type": "code",
   "execution_count": null,
   "metadata": {},
   "outputs": [
    {
     "name": "stdout",
     "output_type": "stream",
     "text": [
      "abab\n",
      ".py.py.py\n"
     ]
    }
   ],
   "source": [
    "#20\n",
    "\n",
    "def larger_string(text,n):\n",
    "    result = \"\"\n",
    "\n",
    "    for i in range(n):\n",
    "        result = result + text\n",
    "    \n",
    "    return result\n",
    "\n",
    "print(larger_string('ab',2))\n",
    "print(larger_string('.py',3))\n"
   ]
  },
  {
   "attachments": {},
   "cell_type": "markdown",
   "metadata": {},
   "source": [
    "### Question 21-30\n"
   ]
  },
  {
   "cell_type": "code",
   "execution_count": 15,
   "metadata": {},
   "outputs": [
    {
     "name": "stdout",
     "output_type": "stream",
     "text": [
      "odd\n"
     ]
    }
   ],
   "source": [
    "#21 \n",
    "\n",
    "def check_num(x):\n",
    "    if x % 2 == 0 :\n",
    "        return \"even\"\n",
    "    else:\n",
    "        return \"odd\"\n",
    "\n",
    "x = int(input(\"Enter the number:\"))\n",
    "\n",
    "print(check_num(x))"
   ]
  },
  {
   "cell_type": "code",
   "execution_count": 49,
   "metadata": {},
   "outputs": [
    {
     "name": "stdout",
     "output_type": "stream",
     "text": [
      "5\n"
     ]
    }
   ],
   "source": [
    "#22 \n",
    "\n",
    "x = [1,4,6,7,4,4,4,4]\n",
    "\n",
    "def check_four(num):\n",
    "    count = 0\n",
    "    for i in num:\n",
    "        if i == 4 :\n",
    "            count  += 1\n",
    "\n",
    "    return count\n",
    "\n",
    "print(check_four(x))\n",
    "    \n",
    "\n",
    "\n",
    "\n",
    "    \n"
   ]
  },
  {
   "cell_type": "code",
   "execution_count": 29,
   "metadata": {},
   "outputs": [
    {
     "name": "stdout",
     "output_type": "stream",
     "text": [
      "abab\n",
      "azazazazaz\n"
     ]
    }
   ],
   "source": [
    "#23\n",
    "\n",
    "def coppies(text,n):\n",
    "    # text = \"\"\n",
    "    for i  in range(n):\n",
    "        if len(text) > 2 :\n",
    "            return text[:2] * n\n",
    "        else:\n",
    "            return text * n\n",
    "\n",
    "\n",
    "print(coppies(\"abcdef\",2))\n",
    "print(coppies(\"az\",5))\n",
    "\n"
   ]
  },
  {
   "cell_type": "code",
   "execution_count": 37,
   "metadata": {},
   "outputs": [
    {
     "name": "stdout",
     "output_type": "stream",
     "text": [
      "abab\n",
      "azazazazaz\n"
     ]
    }
   ],
   "source": [
    "#23_2\n",
    "def coppies(text,n):\n",
    "    result = \"\"\n",
    "    for i  in range(n):\n",
    "        if len(text) > 2 :\n",
    "            result = result + text[:2]\n",
    "        else:\n",
    "            result = result + text\n",
    "    \n",
    "    return result\n",
    "\n",
    "\n",
    "print(coppies(\"abcdef\",2))\n",
    "print(coppies(\"az\",5))"
   ]
  },
  {
   "cell_type": "code",
   "execution_count": 35,
   "metadata": {},
   "outputs": [
    {
     "name": "stdout",
     "output_type": "stream",
     "text": [
      "abab\n",
      "azazazazaz\n"
     ]
    }
   ],
   "source": [
    "#23_3\n",
    "\n",
    "#23\n",
    "\n",
    "def coppies(text,n):\n",
    "    # text = \"\"\n",
    "    for i  in range(n):\n",
    "        if len(text) > 2 :\n",
    "            result = text[:2] * n\n",
    "        else:\n",
    "            result =  text * n\n",
    "            \n",
    "    return result\n",
    "\n",
    "\n",
    "print(coppies(\"abcdef\",2))\n",
    "print(coppies(\"az\",5))\n",
    "\n"
   ]
  },
  {
   "cell_type": "code",
   "execution_count": 43,
   "metadata": {},
   "outputs": [
    {
     "name": "stdout",
     "output_type": "stream",
     "text": [
      "False\n",
      "True\n"
     ]
    }
   ],
   "source": [
    "#24\n",
    "\n",
    "# def check_vowel(text):\n",
    "#     if text == 'aeiou' :\n",
    "#         return \"It is a vowel\"\n",
    "#     else :\n",
    "#         return \"It is not a vowel\"\n",
    "\n",
    "# print(check_vowel(\"a\"))\n",
    "\n",
    "def is_vowel(char):\n",
    "    all_vowels = 'aeiou'\n",
    "\n",
    "    return char in all_vowels\n",
    "\n",
    "print(is_vowel(\"c\"))\n",
    "print(is_vowel(\"u\"))\n",
    "\n",
    "    "
   ]
  },
  {
   "cell_type": "code",
   "execution_count": 50,
   "metadata": {},
   "outputs": [
    {
     "name": "stdout",
     "output_type": "stream",
     "text": [
      "True\n",
      "False\n"
     ]
    }
   ],
   "source": [
    "# 25\n",
    "# Define a function called is_group_member that takes two parameters: group_data (a list) and n (an integer).\n",
    "def is_group_member(group_data, n):\n",
    "    # Iterate through the elements (values) in the group_data list.\n",
    "    for value in group_data:\n",
    "        # Check if the current value is equal to the given integer, n.\n",
    "        if n == value:\n",
    "            return True  # If found, return True.\n",
    "    return False  # If the loop completes and no match is found, return False.\n",
    "\n",
    "# Call the is_group_member function with two different lists and integers, and print the results.\n",
    "print(is_group_member([1, 5, 8, 3], 3))  # Output: True (3 is in the list)\n",
    "print(is_group_member([5, 8, 3], -1))    # Output: False (-1 is not in the list)\n"
   ]
  },
  {
   "cell_type": "code",
   "execution_count": 63,
   "metadata": {},
   "outputs": [
    {
     "name": "stdout",
     "output_type": "stream",
     "text": [
      "**\n",
      "***\n",
      "******\n",
      "*****\n"
     ]
    }
   ],
   "source": [
    "#26\n",
    "def histogram(items):\n",
    "    for n in items:\n",
    "        output = ''\n",
    "        # times = n\n",
    "\n",
    "        while n > 0:\n",
    "            output += '*'\n",
    "            n = n - 1\n",
    "\n",
    "        print(output)\n",
    "\n",
    "histogram([2, 3, 6, 5])\n",
    "    "
   ]
  }
 ],
 "metadata": {
  "kernelspec": {
   "display_name": "Python 3",
   "language": "python",
   "name": "python3"
  },
  "language_info": {
   "codemirror_mode": {
    "name": "ipython",
    "version": 3
   },
   "file_extension": ".py",
   "mimetype": "text/x-python",
   "name": "python",
   "nbconvert_exporter": "python",
   "pygments_lexer": "ipython3",
   "version": "3.11.0"
  },
  "orig_nbformat": 4,
  "vscode": {
   "interpreter": {
    "hash": "2becb7a2e2aa26dcd6e5a9dc03b233d219cd6f19576ccaf267f1ec64e6cd7df1"
   }
  }
 },
 "nbformat": 4,
 "nbformat_minor": 2
}
