{
 "cells": [
  {
   "cell_type": "code",
   "execution_count": null,
   "metadata": {},
   "outputs": [],
   "source": [
    "#List\n",
    "lst=[]\n",
    "n = int(input()) \n",
    "\n",
    "for i in range(n):\n",
    "    cmd = input().split() #insert 10 5 --> ['insert','10','5']\n",
    "    if cmd[0] == 'insert':\n",
    "        lst.insert(int(cmd[1]),int(cmd[2]))\n",
    "    elif cmd[0] == 'print':\n",
    "         print(lst)\n",
    "    elif cmd[0] == 'remove':\n",
    "        lst.remove(int(cmd[1]))\n",
    "    elif cmd[0] == 'append':\n",
    "        lst.append(int(cmd[1]))\n",
    "    elif cmd[0] == 'sort':\n",
    "        lst.sort()\n",
    "    elif cmd[0] == 'pop':\n",
    "        lst.pop()\n",
    "    else:\n",
    "        lst.reverse()\n",
    "\n",
    "\n",
    "\n"
   ]
  },
  {
   "cell_type": "code",
   "execution_count": 9,
   "metadata": {},
   "outputs": [
    {
     "name": "stdout",
     "output_type": "stream",
     "text": [
      "5\n",
      "[2, 3, 6, 6, 5]\n",
      "a =  6\n",
      "c =  2\n",
      "5\n"
     ]
    }
   ],
   "source": [
    "\n",
    "n = int(input())\n",
    "print(n)\n",
    "arr = list(map(int, input().split()))\n",
    "\n",
    "print(arr)\n",
    "\n",
    "a = max(arr)\n",
    "print(\"a = \", a)\n",
    "\n",
    "c = arr.count(a)\n",
    "print(\"c = \",c)\n",
    "\n",
    "\n",
    "for i in range(c):\n",
    "    arr.remove(a)\n",
    "print(max(arr))\n",
    "\n",
    "\n"
   ]
  },
  {
   "cell_type": "code",
   "execution_count": null,
   "metadata": {},
   "outputs": [],
   "source": [
    "def count_substring(string, sub_string):\n",
    "    ml = len(string)\n",
    "    sl = len(sub_string)\n",
    "    c = 0\n",
    "    for i in range(ml-sl+1):\n",
    "        if(string[i:(i+sl)] == sub_string):\n",
    "            c = c+1\n",
    "    return string[0:3]\n",
    "\n",
    "if __name__ == '__main__':\n",
    "    string = input().strip()\n",
    "    sub_string = input().strip()\n",
    "    \n",
    "    count = count_substring(string, sub_string)\n",
    "    print(count)"
   ]
  }
 ],
 "metadata": {
  "kernelspec": {
   "display_name": "Python 3",
   "language": "python",
   "name": "python3"
  },
  "language_info": {
   "codemirror_mode": {
    "name": "ipython",
    "version": 3
   },
   "file_extension": ".py",
   "mimetype": "text/x-python",
   "name": "python",
   "nbconvert_exporter": "python",
   "pygments_lexer": "ipython3",
   "version": "3.11.0"
  },
  "orig_nbformat": 4,
  "vscode": {
   "interpreter": {
    "hash": "2becb7a2e2aa26dcd6e5a9dc03b233d219cd6f19576ccaf267f1ec64e6cd7df1"
   }
  }
 },
 "nbformat": 4,
 "nbformat_minor": 2
}
